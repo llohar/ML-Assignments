{
  "nbformat": 4,
  "nbformat_minor": 0,
  "metadata": {
    "colab": {
      "name": "ML_ass1_soln.ipynb",
      "provenance": [],
      "collapsed_sections": []
    },
    "kernelspec": {
      "name": "python3",
      "display_name": "Python 3"
    },
    "language_info": {
      "name": "python"
    }
  },
  "cells": [
    {
      "cell_type": "code",
      "metadata": {
        "colab": {
          "base_uri": "https://localhost:8080/"
        },
        "id": "_Z4gB5bfXGS4",
        "outputId": "31b30a88-a5f5-4ffc-fc90-61d672fcb999"
      },
      "source": [
        "import numpy as np\n",
        "import pandas as pd\n",
        "from sklearn import datasets,linear_model\n",
        "from sklearn.linear_model import LinearRegression\n",
        "import statsmodels.api as sm\n",
        "from scipy import stats\n",
        "import seaborn as sns\n",
        "import matplotlib.pyplot as plt"
      ],
      "execution_count": 2,
      "outputs": [
        {
          "output_type": "stream",
          "text": [
            "/usr/local/lib/python3.7/dist-packages/statsmodels/tools/_testing.py:19: FutureWarning: pandas.util.testing is deprecated. Use the functions in the public API at pandas.testing instead.\n",
            "  import pandas.util.testing as tm\n"
          ],
          "name": "stderr"
        }
      ]
    },
    {
      "cell_type": "code",
      "metadata": {
        "id": "bNn9uwApZFTq"
      },
      "source": [
        "data=pd.read_csv(\"/Dataset - Company_data.csv\")"
      ],
      "execution_count": 4,
      "outputs": []
    },
    {
      "cell_type": "code",
      "metadata": {
        "colab": {
          "base_uri": "https://localhost:8080/",
          "height": 204
        },
        "id": "nRGe2g09bzTB",
        "outputId": "8341438f-1ee4-41c3-f9ac-5183c1e3fc1c"
      },
      "source": [
        "data.head()"
      ],
      "execution_count": 5,
      "outputs": [
        {
          "output_type": "execute_result",
          "data": {
            "text/html": [
              "<div>\n",
              "<style scoped>\n",
              "    .dataframe tbody tr th:only-of-type {\n",
              "        vertical-align: middle;\n",
              "    }\n",
              "\n",
              "    .dataframe tbody tr th {\n",
              "        vertical-align: top;\n",
              "    }\n",
              "\n",
              "    .dataframe thead th {\n",
              "        text-align: right;\n",
              "    }\n",
              "</style>\n",
              "<table border=\"1\" class=\"dataframe\">\n",
              "  <thead>\n",
              "    <tr style=\"text-align: right;\">\n",
              "      <th></th>\n",
              "      <th>TV</th>\n",
              "      <th>Radio</th>\n",
              "      <th>Newspaper</th>\n",
              "      <th>Sales</th>\n",
              "    </tr>\n",
              "  </thead>\n",
              "  <tbody>\n",
              "    <tr>\n",
              "      <th>0</th>\n",
              "      <td>230.1</td>\n",
              "      <td>37.8</td>\n",
              "      <td>69.2</td>\n",
              "      <td>22.1</td>\n",
              "    </tr>\n",
              "    <tr>\n",
              "      <th>1</th>\n",
              "      <td>44.5</td>\n",
              "      <td>39.3</td>\n",
              "      <td>45.1</td>\n",
              "      <td>10.4</td>\n",
              "    </tr>\n",
              "    <tr>\n",
              "      <th>2</th>\n",
              "      <td>17.2</td>\n",
              "      <td>45.9</td>\n",
              "      <td>69.3</td>\n",
              "      <td>12.0</td>\n",
              "    </tr>\n",
              "    <tr>\n",
              "      <th>3</th>\n",
              "      <td>151.5</td>\n",
              "      <td>41.3</td>\n",
              "      <td>58.5</td>\n",
              "      <td>16.5</td>\n",
              "    </tr>\n",
              "    <tr>\n",
              "      <th>4</th>\n",
              "      <td>180.8</td>\n",
              "      <td>10.8</td>\n",
              "      <td>58.4</td>\n",
              "      <td>17.9</td>\n",
              "    </tr>\n",
              "  </tbody>\n",
              "</table>\n",
              "</div>"
            ],
            "text/plain": [
              "      TV  Radio  Newspaper  Sales\n",
              "0  230.1   37.8       69.2   22.1\n",
              "1   44.5   39.3       45.1   10.4\n",
              "2   17.2   45.9       69.3   12.0\n",
              "3  151.5   41.3       58.5   16.5\n",
              "4  180.8   10.8       58.4   17.9"
            ]
          },
          "metadata": {
            "tags": []
          },
          "execution_count": 5
        }
      ]
    },
    {
      "cell_type": "code",
      "metadata": {
        "colab": {
          "base_uri": "https://localhost:8080/",
          "height": 333
        },
        "id": "yBck05QfcGIc",
        "outputId": "ea58d7af-4977-49d1-bf0d-6a7b22758d7b"
      },
      "source": [
        "plt.hist(data['TV'])"
      ],
      "execution_count": 6,
      "outputs": [
        {
          "output_type": "execute_result",
          "data": {
            "text/plain": [
              "(array([26., 15., 21., 18., 19., 17., 22., 26., 20., 16.]),\n",
              " array([  0.7 ,  30.27,  59.84,  89.41, 118.98, 148.55, 178.12, 207.69,\n",
              "        237.26, 266.83, 296.4 ]),\n",
              " <a list of 10 Patch objects>)"
            ]
          },
          "metadata": {
            "tags": []
          },
          "execution_count": 6
        },
        {
          "output_type": "display_data",
          "data": {
            "image/png": "[encoded data removed]",
            "text/plain": [
              "<Figure size 432x288 with 1 Axes>"
            ]
          },
          "metadata": {
            "tags": [],
            "needs_background": "light"
          }
        }
      ]
    },
    {
      "cell_type": "code",
      "metadata": {
        "colab": {
          "base_uri": "https://localhost:8080/",
          "height": 333
        },
        "id": "hwVT8yGncPk6",
        "outputId": "09b3f0f6-6263-4de2-a206-a883bb1f0808"
      },
      "source": [
        "plt.hist(data['Radio'])"
      ],
      "execution_count": null,
      "outputs": [
        {
          "output_type": "execute_result",
          "data": {
            "text/plain": [
              "(array([30., 20., 21., 17., 18., 23., 14., 21., 21., 15.]),\n",
              " array([ 0.  ,  4.96,  9.92, 14.88, 19.84, 24.8 , 29.76, 34.72, 39.68,\n",
              "        44.64, 49.6 ]),\n",
              " <a list of 10 Patch objects>)"
            ]
          },
          "metadata": {
            "tags": []
          },
          "execution_count": 7
        },
        {
          "output_type": "display_data",
          "data": {
            "image/png": "[encoded data removed]",
            "text/plain": [
              "<Figure size 432x288 with 1 Axes>"
            ]
          },
          "metadata": {
            "tags": [],
            "needs_background": "light"
          }
        }
      ]
    },
    {
      "cell_type": "code",
      "metadata": {
        "colab": {
          "base_uri": "https://localhost:8080/",
          "height": 333
        },
        "id": "PNWob9jScPRm",
        "outputId": "24ef959b-b317-4b30-d8e7-78e454e4b8b0"
      },
      "source": [
        "plt.hist(data['Newspaper'])"
      ],
      "execution_count": null,
      "outputs": [
        {
          "output_type": "execute_result",
          "data": {
            "text/plain": [
              "(array([47., 41., 35., 30., 21., 13.,  9.,  2.,  1.,  1.]),\n",
              " array([  0.3 ,  11.67,  23.04,  34.41,  45.78,  57.15,  68.52,  79.89,\n",
              "         91.26, 102.63, 114.  ]),\n",
              " <a list of 10 Patch objects>)"
            ]
          },
          "metadata": {
            "tags": []
          },
          "execution_count": 8
        },
        {
          "output_type": "display_data",
          "data": {
            "image/png": "[encoded data removed]",
            "text/plain": [
              "<Figure size 432x288 with 1 Axes>"
            ]
          },
          "metadata": {
            "tags": [],
            "needs_background": "light"
          }
        }
      ]
    },
    {
      "cell_type": "code",
      "metadata": {
        "colab": {
          "base_uri": "https://localhost:8080/",
          "height": 333
        },
        "id": "jePSSewMcO4p",
        "outputId": "d179fd30-7340-4edf-a995-8e7941f1370e"
      },
      "source": [
        "plt.hist(data['Sales'])"
      ],
      "execution_count": null,
      "outputs": [
        {
          "output_type": "execute_result",
          "data": {
            "text/plain": [
              "(array([ 2.,  9., 17., 30., 29., 30., 34., 30., 12.,  7.]),\n",
              " array([ 1.6 ,  4.14,  6.68,  9.22, 11.76, 14.3 , 16.84, 19.38, 21.92,\n",
              "        24.46, 27.  ]),\n",
              " <a list of 10 Patch objects>)"
            ]
          },
          "metadata": {
            "tags": []
          },
          "execution_count": 10
        },
        {
          "output_type": "display_data",
          "data": {
            "image/png": "[encoded data removed]",
            "text/plain": [
              "<Figure size 432x288 with 1 Axes>"
            ]
          },
          "metadata": {
            "tags": [],
            "needs_background": "light"
          }
        }
      ]
    },
    {
      "cell_type": "code",
      "metadata": {
        "colab": {
          "base_uri": "https://localhost:8080/",
          "height": 282
        },
        "id": "Q_01cGeCcOEV",
        "outputId": "534b53db-961f-48cf-d701-41432b4f2afe"
      },
      "source": [
        "plt.scatter(x=data['TV'],y=data['Sales'])"
      ],
      "execution_count": null,
      "outputs": [
        {
          "output_type": "execute_result",
          "data": {
            "text/plain": [
              "<matplotlib.collections.PathCollection at 0x7ff065fa4e50>"
            ]
          },
          "metadata": {
            "tags": []
          },
          "execution_count": 9
        },
        {
          "output_type": "display_data",
          "data": {
            "image/png": "[encoded data removed]",
            "text/plain": [
              "<Figure size 432x288 with 1 Axes>"
            ]
          },
          "metadata": {
            "tags": [],
            "needs_background": "light"
          }
        }
      ]
    },
    {
      "cell_type": "code",
      "metadata": {
        "colab": {
          "base_uri": "https://localhost:8080/",
          "height": 282
        },
        "id": "eDbadDG1dVIQ",
        "outputId": "0bba8804-3cbc-442d-be4a-421ab5874449"
      },
      "source": [
        "plt.scatter(x=data['Radio'],y=data['Sales'])"
      ],
      "execution_count": null,
      "outputs": [
        {
          "output_type": "execute_result",
          "data": {
            "text/plain": [
              "<matplotlib.collections.PathCollection at 0x7ff065fa4110>"
            ]
          },
          "metadata": {
            "tags": []
          },
          "execution_count": 10
        },
        {
          "output_type": "display_data",
          "data": {
            "image/png": "[encoded data removed]",
            "text/plain": [
              "<Figure size 432x288 with 1 Axes>"
            ]
          },
          "metadata": {
            "tags": [],
            "needs_background": "light"
          }
        }
      ]
    },
    {
      "cell_type": "code",
      "metadata": {
        "colab": {
          "base_uri": "https://localhost:8080/",
          "height": 282
        },
        "id": "Pnc-vDlMdfq5",
        "outputId": "26e6cc1c-77e8-4644-f690-c9bad7f5df0e"
      },
      "source": [
        "plt.scatter(x=data['Newspaper'],y=data['Sales'])"
      ],
      "execution_count": null,
      "outputs": [
        {
          "output_type": "execute_result",
          "data": {
            "text/plain": [
              "<matplotlib.collections.PathCollection at 0x7ff065f1e510>"
            ]
          },
          "metadata": {
            "tags": []
          },
          "execution_count": 11
        },
        {
          "output_type": "display_data",
          "data": {
            "image/png": "[encoded data removed]",
            "text/plain": [
              "<Figure size 432x288 with 1 Axes>"
            ]
          },
          "metadata": {
            "tags": [],
            "needs_background": "light"
          }
        }
      ]
    },
    {
      "cell_type": "code",
      "metadata": {
        "colab": {
          "base_uri": "https://localhost:8080/",
          "height": 282
        },
        "id": "H6-GcQY1eT4V",
        "outputId": "92ca0a96-a8ee-4f81-e0f4-b8eb09a5f886"
      },
      "source": [
        "plt.scatter(x=data['Radio'],y=data['Newspaper'])"
      ],
      "execution_count": null,
      "outputs": [
        {
          "output_type": "execute_result",
          "data": {
            "text/plain": [
              "<matplotlib.collections.PathCollection at 0x7ff065e84350>"
            ]
          },
          "metadata": {
            "tags": []
          },
          "execution_count": 12
        },
        {
          "output_type": "display_data",
          "data": {
            "image/png": "[encoded data removed]",
            "text/plain": [
              "<Figure size 432x288 with 1 Axes>"
            ]
          },
          "metadata": {
            "tags": [],
            "needs_background": "light"
          }
        }
      ]
    },
    {
      "cell_type": "code",
      "metadata": {
        "colab": {
          "base_uri": "https://localhost:8080/"
        },
        "id": "94sBps-8dww3",
        "outputId": "7f4af7a7-ba84-4b38-e73f-11dfe3a84ac2"
      },
      "source": [
        "from scipy.stats import pearsonr\n",
        "corr, _ = pearsonr(data['TV'], data['Radio'])\n",
        "print(corr)"
      ],
      "execution_count": null,
      "outputs": [
        {
          "output_type": "stream",
          "text": [
            "0.05480866446583011\n"
          ],
          "name": "stdout"
        }
      ]
    },
    {
      "cell_type": "code",
      "metadata": {
        "colab": {
          "base_uri": "https://localhost:8080/",
          "height": 173
        },
        "id": "ZKrpBqQRemKM",
        "outputId": "d137bcee-c5dd-4682-f752-74eb9c5d0f1d"
      },
      "source": [
        "data.corr()"
      ],
      "execution_count": null,
      "outputs": [
        {
          "output_type": "execute_result",
          "data": {
            "text/html": [
              "<div>\n",
              "<style scoped>\n",
              "    .dataframe tbody tr th:only-of-type {\n",
              "        vertical-align: middle;\n",
              "    }\n",
              "\n",
              "    .dataframe tbody tr th {\n",
              "        vertical-align: top;\n",
              "    }\n",
              "\n",
              "    .dataframe thead th {\n",
              "        text-align: right;\n",
              "    }\n",
              "</style>\n",
              "<table border=\"1\" class=\"dataframe\">\n",
              "  <thead>\n",
              "    <tr style=\"text-align: right;\">\n",
              "      <th></th>\n",
              "      <th>TV</th>\n",
              "      <th>Radio</th>\n",
              "      <th>Newspaper</th>\n",
              "      <th>Sales</th>\n",
              "    </tr>\n",
              "  </thead>\n",
              "  <tbody>\n",
              "    <tr>\n",
              "      <th>TV</th>\n",
              "      <td>1.000000</td>\n",
              "      <td>0.054809</td>\n",
              "      <td>0.056648</td>\n",
              "      <td>0.901208</td>\n",
              "    </tr>\n",
              "    <tr>\n",
              "      <th>Radio</th>\n",
              "      <td>0.054809</td>\n",
              "      <td>1.000000</td>\n",
              "      <td>0.354104</td>\n",
              "      <td>0.349631</td>\n",
              "    </tr>\n",
              "    <tr>\n",
              "      <th>Newspaper</th>\n",
              "      <td>0.056648</td>\n",
              "      <td>0.354104</td>\n",
              "      <td>1.000000</td>\n",
              "      <td>0.157960</td>\n",
              "    </tr>\n",
              "    <tr>\n",
              "      <th>Sales</th>\n",
              "      <td>0.901208</td>\n",
              "      <td>0.349631</td>\n",
              "      <td>0.157960</td>\n",
              "      <td>1.000000</td>\n",
              "    </tr>\n",
              "  </tbody>\n",
              "</table>\n",
              "</div>"
            ],
            "text/plain": [
              "                 TV     Radio  Newspaper     Sales\n",
              "TV         1.000000  0.054809   0.056648  0.901208\n",
              "Radio      0.054809  1.000000   0.354104  0.349631\n",
              "Newspaper  0.056648  0.354104   1.000000  0.157960\n",
              "Sales      0.901208  0.349631   0.157960  1.000000"
            ]
          },
          "metadata": {
            "tags": []
          },
          "execution_count": 14
        }
      ]
    },
    {
      "cell_type": "code",
      "metadata": {
        "colab": {
          "base_uri": "https://localhost:8080/",
          "height": 401
        },
        "id": "OeIKTU29gAdF",
        "outputId": "288ab013-4618-4836-a9bc-61707fabaade"
      },
      "source": [
        "plt.boxplot(x=data['TV'])"
      ],
      "execution_count": null,
      "outputs": [
        {
          "output_type": "execute_result",
          "data": {
            "text/plain": [
              "{'boxes': [<matplotlib.lines.Line2D at 0x7fa047af18d0>],\n",
              " 'caps': [<matplotlib.lines.Line2D at 0x7fa047a81690>,\n",
              "  <matplotlib.lines.Line2D at 0x7fa047a81090>],\n",
              " 'fliers': [<matplotlib.lines.Line2D at 0x7fa047a8f2d0>],\n",
              " 'means': [],\n",
              " 'medians': [<matplotlib.lines.Line2D at 0x7fa047a812d0>],\n",
              " 'whiskers': [<matplotlib.lines.Line2D at 0x7fa047a96910>,\n",
              "  <matplotlib.lines.Line2D at 0x7fa047a96b10>]}"
            ]
          },
          "metadata": {
            "tags": []
          },
          "execution_count": 24
        },
        {
          "output_type": "display_data",
          "data": {
            "image/png": "[encoded data removed]",
            "text/plain": [
              "<Figure size 432x288 with 1 Axes>"
            ]
          },
          "metadata": {
            "tags": [],
            "needs_background": "light"
          }
        }
      ]
    },
    {
      "cell_type": "code",
      "metadata": {
        "colab": {
          "base_uri": "https://localhost:8080/",
          "height": 401
        },
        "id": "uCl-mC2jg5G3",
        "outputId": "cbcbbb2a-474b-4599-d092-c834e6ddc276"
      },
      "source": [
        "plt.boxplot(x=data['Radio'])"
      ],
      "execution_count": null,
      "outputs": [
        {
          "output_type": "execute_result",
          "data": {
            "text/plain": [
              "{'boxes': [<matplotlib.lines.Line2D at 0x7fa0479a4790>],\n",
              " 'caps': [<matplotlib.lines.Line2D at 0x7fa0479ac790>,\n",
              "  <matplotlib.lines.Line2D at 0x7fa0479acbd0>],\n",
              " 'fliers': [<matplotlib.lines.Line2D at 0x7fa0479b3650>],\n",
              " 'means': [],\n",
              " 'medians': [<matplotlib.lines.Line2D at 0x7fa0479b3150>],\n",
              " 'whiskers': [<matplotlib.lines.Line2D at 0x7fa0479a4cd0>,\n",
              "  <matplotlib.lines.Line2D at 0x7fa0479ac250>]}"
            ]
          },
          "metadata": {
            "tags": []
          },
          "execution_count": 26
        },
        {
          "output_type": "display_data",
          "data": {
            "image/png": "[encoded data removed]",
            "text/plain": [
              "<Figure size 432x288 with 1 Axes>"
            ]
          },
          "metadata": {
            "tags": [],
            "needs_background": "light"
          }
        }
      ]
    },
    {
      "cell_type": "code",
      "metadata": {
        "colab": {
          "base_uri": "https://localhost:8080/",
          "height": 401
        },
        "id": "OYaPzGnng4TB",
        "outputId": "6c779ba2-bd6e-4767-892a-6f26565928c7"
      },
      "source": [
        "plt.boxplot(x=data['Newspaper'])"
      ],
      "execution_count": null,
      "outputs": [
        {
          "output_type": "execute_result",
          "data": {
            "text/plain": [
              "{'boxes': [<matplotlib.lines.Line2D at 0x7fa047a36b50>],\n",
              " 'caps': [<matplotlib.lines.Line2D at 0x7fa047a3cb50>,\n",
              "  <matplotlib.lines.Line2D at 0x7fa0479c30d0>],\n",
              " 'fliers': [<matplotlib.lines.Line2D at 0x7fa0479c3b90>],\n",
              " 'means': [],\n",
              " 'medians': [<matplotlib.lines.Line2D at 0x7fa0479c3650>],\n",
              " 'whiskers': [<matplotlib.lines.Line2D at 0x7fa047a3c0d0>,\n",
              "  <matplotlib.lines.Line2D at 0x7fa047a3c610>]}"
            ]
          },
          "metadata": {
            "tags": []
          },
          "execution_count": 25
        },
        {
          "output_type": "display_data",
          "data": {
            "image/png": "[encoded data removed]",
            "text/plain": [
              "<Figure size 432x288 with 1 Axes>"
            ]
          },
          "metadata": {
            "tags": [],
            "needs_background": "light"
          }
        }
      ]
    },
    {
      "cell_type": "markdown",
      "metadata": {
        "id": "awEd3xtn2nwX"
      },
      "source": [
        "#### **Q5(ii) SOLUTION**"
      ]
    },
    {
      "cell_type": "markdown",
      "metadata": {
        "id": "LFSzp5MBln2f"
      },
      "source": [
        "####**PART A:Model 1**"
      ]
    },
    {
      "cell_type": "code",
      "metadata": {
        "id": "HNpNBTczoXck"
      },
      "source": [
        "y=data.Sales\n",
        "x=data['TV']"
      ],
      "execution_count": null,
      "outputs": []
    },
    {
      "cell_type": "code",
      "metadata": {
        "id": "xP-Ff44y3Hmf",
        "colab": {
          "base_uri": "https://localhost:8080/"
        },
        "outputId": "d32d60be-baeb-4410-bb65-2c7497c98819"
      },
      "source": [
        "x.head(),y.head()"
      ],
      "execution_count": null,
      "outputs": [
        {
          "output_type": "execute_result",
          "data": {
            "text/plain": [
              "(0    230.1\n",
              " 1     44.5\n",
              " 2     17.2\n",
              " 3    151.5\n",
              " 4    180.8\n",
              " Name: TV, dtype: float64, 0    22.1\n",
              " 1    10.4\n",
              " 2    12.0\n",
              " 3    16.5\n",
              " 4    17.9\n",
              " Name: Sales, dtype: float64)"
            ]
          },
          "metadata": {
            "tags": []
          },
          "execution_count": 32
        }
      ]
    },
    {
      "cell_type": "code",
      "metadata": {
        "id": "xqvORY_73HeS"
      },
      "source": [
        "from sklearn.model_selection import train_test_split\n",
        "train_x, test_x, train_y, test_y = train_test_split(x, y, test_size=0.3)"
      ],
      "execution_count": null,
      "outputs": []
    },
    {
      "cell_type": "code",
      "metadata": {
        "id": "zM8Zq-JqmSwI"
      },
      "source": [
        "train_x=train_x.reshape(-1,1)\n",
        "test_x=test_x.reshape(-1,1)"
      ],
      "execution_count": null,
      "outputs": []
    },
    {
      "cell_type": "code",
      "metadata": {
        "colab": {
          "base_uri": "https://localhost:8080/"
        },
        "id": "sjziLSJE3HUB",
        "outputId": "6c780180-83d1-42c4-e28b-359d8dbda72f"
      },
      "source": [
        "train_x.shape,test_x.shape,train_y.shape,test_y.shape,"
      ],
      "execution_count": null,
      "outputs": [
        {
          "output_type": "execute_result",
          "data": {
            "text/plain": [
              "((140, 1), (60, 1), (140,), (60,))"
            ]
          },
          "metadata": {
            "tags": []
          },
          "execution_count": 55
        }
      ]
    },
    {
      "cell_type": "code",
      "metadata": {
        "colab": {
          "base_uri": "https://localhost:8080/"
        },
        "id": "AcfOEdzv3HI3",
        "outputId": "7db776bd-4d11-421a-f417-194d516b212a"
      },
      "source": [
        "X2 = sm.add_constant(x)\n",
        "est = sm.OLS(y, X2)\n",
        "est2 = est.fit()\n",
        "print(est2.summary())"
      ],
      "execution_count": null,
      "outputs": [
        {
          "output_type": "stream",
          "text": [
            "                            OLS Regression Results                            \n",
            "==============================================================================\n",
            "Dep. Variable:                  Sales   R-squared:                       0.812\n",
            "Model:                            OLS   Adj. R-squared:                  0.811\n",
            "Method:                 Least Squares   F-statistic:                     856.2\n",
            "Date:                Sat, 10 Jul 2021   Prob (F-statistic):           7.93e-74\n",
            "Time:                        03:58:52   Log-Likelihood:                -448.99\n",
            "No. Observations:                 200   AIC:                             902.0\n",
            "Df Residuals:                     198   BIC:                             908.6\n",
            "Df Model:                           1                                         \n",
            "Covariance Type:            nonrobust                                         \n",
            "==============================================================================\n",
            "                 coef    std err          t      P>|t|      [0.025      0.975]\n",
            "------------------------------------------------------------------------------\n",
            "const          6.9748      0.323     21.624      0.000       6.339       7.611\n",
            "TV             0.0555      0.002     29.260      0.000       0.052       0.059\n",
            "==============================================================================\n",
            "Omnibus:                        0.013   Durbin-Watson:                   2.029\n",
            "Prob(Omnibus):                  0.993   Jarque-Bera (JB):                0.043\n",
            "Skew:                          -0.018   Prob(JB):                        0.979\n",
            "Kurtosis:                       2.938   Cond. No.                         338.\n",
            "==============================================================================\n",
            "\n",
            "Warnings:\n",
            "[1] Standard Errors assume that the covariance matrix of the errors is correctly specified.\n"
          ],
          "name": "stdout"
        }
      ]
    },
    {
      "cell_type": "code",
      "metadata": {
        "id": "cOi1iYBA3G9W"
      },
      "source": [
        "from sklearn.linear_model import LinearRegression"
      ],
      "execution_count": null,
      "outputs": []
    },
    {
      "cell_type": "code",
      "metadata": {
        "id": "iQJp11Rm3G0_",
        "colab": {
          "base_uri": "https://localhost:8080/"
        },
        "outputId": "0c9ed2ec-2d30-4ed3-a81f-a724d8e39f46"
      },
      "source": [
        "model = LinearRegression()\n",
        "model.fit(train_x,train_y)"
      ],
      "execution_count": null,
      "outputs": [
        {
          "output_type": "execute_result",
          "data": {
            "text/plain": [
              "LinearRegression(copy_X=True, fit_intercept=True, n_jobs=None, normalize=False)"
            ]
          },
          "metadata": {
            "tags": []
          },
          "execution_count": 46
        }
      ]
    },
    {
      "cell_type": "code",
      "metadata": {
        "id": "OZyFPply3GnA",
        "colab": {
          "base_uri": "https://localhost:8080/"
        },
        "outputId": "833771d3-c5b1-49de-a5f4-6eb4544e2f7c"
      },
      "source": [
        "model.predict(test_x)"
      ],
      "execution_count": null,
      "outputs": [
        {
          "output_type": "execute_result",
          "data": {
            "text/plain": [
              "array([ 8.79346736, 17.33415133,  7.96505308, 18.85202008, 18.93753381,\n",
              "       19.46665002, 16.72486599, 18.31755925, 16.11558065,  9.56843555,\n",
              "       17.70827391, 14.70994869,  8.69726441,  8.60106146, 18.32290386,\n",
              "       14.76339477, 13.13328925, 15.99265466, 18.52599897, 12.09643525,\n",
              "       22.80168557, 10.45029591, 12.47590244, 17.82585529, 14.49081975,\n",
              "       17.30742829, 17.02416406, 12.85536962, 16.17971595, 19.40785933,\n",
              "       21.31588448, 22.06412963,  7.48403834, 22.304637  , 22.91926695,\n",
              "       14.54426583, 17.82585529, 14.81684085, 14.70460408, 19.95300937,\n",
              "        8.73467667,  7.72454571, 11.55128521, 17.30208368, 14.7206379 ,\n",
              "       10.26857923, 16.36143263, 11.44439305, 11.28939941, 22.74823949,\n",
              "       18.7397833 , 18.53134358, 20.82952513,  8.18418202, 20.54091628,\n",
              "       10.95268909, 17.8953352 , 17.61741557,  9.64326007, 21.89310217])"
            ]
          },
          "metadata": {
            "tags": []
          },
          "execution_count": 47
        }
      ]
    },
    {
      "cell_type": "code",
      "metadata": {
        "id": "SDQ51DOK3Geg"
      },
      "source": [
        "from sklearn.metrics import mean_squared_error"
      ],
      "execution_count": null,
      "outputs": []
    },
    {
      "cell_type": "code",
      "metadata": {
        "id": "k1rDuk6I3GVZ",
        "colab": {
          "base_uri": "https://localhost:8080/"
        },
        "outputId": "4a6afd3e-a451-4a46-884d-8e028c8e2396"
      },
      "source": [
        "mean_squared_error(test_y, model.predict(test_x))"
      ],
      "execution_count": null,
      "outputs": [
        {
          "output_type": "execute_result",
          "data": {
            "text/plain": [
              "6.369539061575784"
            ]
          },
          "metadata": {
            "tags": []
          },
          "execution_count": 49
        }
      ]
    },
    {
      "cell_type": "code",
      "metadata": {
        "id": "8QcL77Xq3GBz",
        "colab": {
          "base_uri": "https://localhost:8080/"
        },
        "outputId": "b682109e-0e68-4340-9841-356793ff0999"
      },
      "source": [
        "print(\"Train R squared\", 1 - mean_squared_error(train_y, model.predict(train_x)) / mean_squared_error(train_y, [train_y.mean()]*train_y.shape[0]))\n",
        "print(\"Test R squared\", 1 - mean_squared_error(test_y, model.predict(test_x)) / mean_squared_error(test_y, [test_y.mean()]*test_y.shape[0]))"
      ],
      "execution_count": null,
      "outputs": [
        {
          "output_type": "stream",
          "text": [
            "Train R squared 0.8174287344183201\n",
            "Test R squared 0.7974775723064292\n"
          ],
          "name": "stdout"
        }
      ]
    },
    {
      "cell_type": "markdown",
      "metadata": {
        "id": "fjVzZMkRlwFP"
      },
      "source": [
        "####**PART B:Model 2**"
      ]
    },
    {
      "cell_type": "code",
      "metadata": {
        "id": "C_Qw1MmY3F5Q"
      },
      "source": [
        "y=data.Sales\n",
        "x=data['Radio']"
      ],
      "execution_count": null,
      "outputs": []
    },
    {
      "cell_type": "code",
      "metadata": {
        "id": "Lr7FM0rw3Fn8",
        "colab": {
          "base_uri": "https://localhost:8080/"
        },
        "outputId": "cd441df6-c70e-4a8e-9821-2376b29bde13"
      },
      "source": [
        "x.head(),y.head()"
      ],
      "execution_count": null,
      "outputs": [
        {
          "output_type": "execute_result",
          "data": {
            "text/plain": [
              "(0    37.8\n",
              " 1    39.3\n",
              " 2    45.9\n",
              " 3    41.3\n",
              " 4    10.8\n",
              " Name: Radio, dtype: float64, 0    22.1\n",
              " 1    10.4\n",
              " 2    12.0\n",
              " 3    16.5\n",
              " 4    17.9\n",
              " Name: Sales, dtype: float64)"
            ]
          },
          "metadata": {
            "tags": []
          },
          "execution_count": 57
        }
      ]
    },
    {
      "cell_type": "code",
      "metadata": {
        "id": "qZ70TOr_mBeY"
      },
      "source": [
        "from sklearn.model_selection import train_test_split\n",
        "train_x, test_x, train_y, test_y = train_test_split(x, y, test_size=0.3)"
      ],
      "execution_count": null,
      "outputs": []
    },
    {
      "cell_type": "code",
      "metadata": {
        "id": "pBoqZZatmBSx"
      },
      "source": [
        "train_x=train_x.values.reshape(-1,1)\n",
        "test_x=test_x.values.reshape(-1,1)"
      ],
      "execution_count": null,
      "outputs": []
    },
    {
      "cell_type": "code",
      "metadata": {
        "colab": {
          "base_uri": "https://localhost:8080/"
        },
        "id": "LlCmKY-MmBIv",
        "outputId": "78e7be91-b4f7-4777-bf92-267e85ce7995"
      },
      "source": [
        "train_x.shape,test_x.shape,train_y.shape,test_y.shape,"
      ],
      "execution_count": null,
      "outputs": [
        {
          "output_type": "execute_result",
          "data": {
            "text/plain": [
              "((140, 1), (60, 1), (140,), (60,))"
            ]
          },
          "metadata": {
            "tags": []
          },
          "execution_count": 61
        }
      ]
    },
    {
      "cell_type": "code",
      "metadata": {
        "colab": {
          "base_uri": "https://localhost:8080/"
        },
        "id": "JTsbl969mA63",
        "outputId": "f298fda5-80fb-4228-8b48-96ac9b176d34"
      },
      "source": [
        "X2 = sm.add_constant(x)\n",
        "est = sm.OLS(y, X2)\n",
        "est2 = est.fit()\n",
        "print(est2.summary())"
      ],
      "execution_count": null,
      "outputs": [
        {
          "output_type": "stream",
          "text": [
            "                            OLS Regression Results                            \n",
            "==============================================================================\n",
            "Dep. Variable:                  Sales   R-squared:                       0.122\n",
            "Model:                            OLS   Adj. R-squared:                  0.118\n",
            "Method:                 Least Squares   F-statistic:                     27.57\n",
            "Date:                Sat, 10 Jul 2021   Prob (F-statistic):           3.88e-07\n",
            "Time:                        04:13:25   Log-Likelihood:                -603.18\n",
            "No. Observations:                 200   AIC:                             1210.\n",
            "Df Residuals:                     198   BIC:                             1217.\n",
            "Df Model:                           1                                         \n",
            "Covariance Type:            nonrobust                                         \n",
            "==============================================================================\n",
            "                 coef    std err          t      P>|t|      [0.025      0.975]\n",
            "------------------------------------------------------------------------------\n",
            "const         12.2357      0.653     18.724      0.000      10.947      13.524\n",
            "Radio          0.1244      0.024      5.251      0.000       0.078       0.171\n",
            "==============================================================================\n",
            "Omnibus:                       11.077   Durbin-Watson:                   2.018\n",
            "Prob(Omnibus):                  0.004   Jarque-Bera (JB):                9.124\n",
            "Skew:                          -0.433   Prob(JB):                       0.0104\n",
            "Kurtosis:                       2.414   Cond. No.                         51.4\n",
            "==============================================================================\n",
            "\n",
            "Warnings:\n",
            "[1] Standard Errors assume that the covariance matrix of the errors is correctly specified.\n"
          ],
          "name": "stdout"
        }
      ]
    },
    {
      "cell_type": "code",
      "metadata": {
        "colab": {
          "base_uri": "https://localhost:8080/"
        },
        "id": "YtVbyhQimArO",
        "outputId": "ba60592a-ffe5-4bff-a272-cb7c4be52c83"
      },
      "source": [
        "from sklearn.linear_model import LinearRegression\n",
        "model = LinearRegression()\n",
        "model.fit(train_x,train_y)"
      ],
      "execution_count": null,
      "outputs": [
        {
          "output_type": "execute_result",
          "data": {
            "text/plain": [
              "LinearRegression(copy_X=True, fit_intercept=True, n_jobs=None, normalize=False)"
            ]
          },
          "metadata": {
            "tags": []
          },
          "execution_count": 63
        }
      ]
    },
    {
      "cell_type": "code",
      "metadata": {
        "colab": {
          "base_uri": "https://localhost:8080/"
        },
        "id": "3vcqLqolmAde",
        "outputId": "36964116-0ea1-4537-e92d-0aefc5e24a86"
      },
      "source": [
        "model.predict(test_x)"
      ],
      "execution_count": null,
      "outputs": [
        {
          "output_type": "execute_result",
          "data": {
            "text/plain": [
              "array([16.94911783, 14.74047421, 13.49540551, 16.39695693, 16.20207661,\n",
              "       16.25621003, 15.23850169, 14.05839309, 12.60761738, 15.56330223,\n",
              "       12.9432446 , 17.69615905, 16.6892774 , 14.98948795, 16.61349061,\n",
              "       15.59578228, 15.3034618 , 12.35860364, 16.32117013, 16.81919762,\n",
              "       15.26015506, 14.84874106, 12.54265728, 14.31823352, 12.48852386,\n",
              "       12.41273707, 17.62037226, 14.04756641, 16.98159788, 16.6243173 ,\n",
              "       15.10858148, 15.74735586, 14.92452785, 12.9432446 , 17.41466526,\n",
              "       15.08692811, 15.95306286, 13.15977829, 16.41861029, 15.32511517,\n",
              "       12.88911118, 16.2778634 , 12.32612359, 17.06821136, 16.28869008,\n",
              "       13.21391171, 13.9176462 , 13.69028582, 15.94223618, 17.67450568,\n",
              "       12.66175081, 17.63119895, 12.79167102, 13.83103272, 15.88810276,\n",
              "       15.53082217, 13.83103272, 13.23556508, 12.69423086, 15.51999549])"
            ]
          },
          "metadata": {
            "tags": []
          },
          "execution_count": 64
        }
      ]
    },
    {
      "cell_type": "code",
      "metadata": {
        "id": "3u5cYbStmAO3"
      },
      "source": [
        "from sklearn.metrics import mean_squared_error"
      ],
      "execution_count": null,
      "outputs": []
    },
    {
      "cell_type": "code",
      "metadata": {
        "colab": {
          "base_uri": "https://localhost:8080/"
        },
        "id": "gHLkpPsgl_-Y",
        "outputId": "3477e7de-c1b2-4fcb-a5ba-c7b1c3dd0c35"
      },
      "source": [
        "mean_squared_error(test_y, model.predict(test_x))"
      ],
      "execution_count": null,
      "outputs": [
        {
          "output_type": "execute_result",
          "data": {
            "text/plain": [
              "25.724989906579765"
            ]
          },
          "metadata": {
            "tags": []
          },
          "execution_count": 66
        }
      ]
    },
    {
      "cell_type": "code",
      "metadata": {
        "colab": {
          "base_uri": "https://localhost:8080/"
        },
        "id": "0QG9-WoznZu7",
        "outputId": "7be85063-2610-4bfd-f647-c7fb17108bfb"
      },
      "source": [
        "print(\"Train R squared\", 1 - mean_squared_error(train_y, model.predict(train_x)) / mean_squared_error(train_y, [train_y.mean()]*train_y.shape[0]))\n",
        "print(\"Test R squared\", 1 - mean_squared_error(test_y, model.predict(test_x)) / mean_squared_error(test_y, [test_y.mean()]*test_y.shape[0]))"
      ],
      "execution_count": null,
      "outputs": [
        {
          "output_type": "stream",
          "text": [
            "Train R squared 0.09455071048106067\n",
            "Test R squared 0.1369559979374243\n"
          ],
          "name": "stdout"
        }
      ]
    },
    {
      "cell_type": "markdown",
      "metadata": {
        "id": "2tM3-n9eoA46"
      },
      "source": [
        "#### **Part C: Model 3**"
      ]
    },
    {
      "cell_type": "code",
      "metadata": {
        "id": "ljnP6HptoAcb"
      },
      "source": [
        "y=data.Sales\n",
        "x=data['Newspaper']"
      ],
      "execution_count": null,
      "outputs": []
    },
    {
      "cell_type": "code",
      "metadata": {
        "colab": {
          "base_uri": "https://localhost:8080/"
        },
        "id": "ygP-pJVwnZnY",
        "outputId": "d35fc111-3f5f-45f7-9864-50c1398b63ef"
      },
      "source": [
        "x.head(),y.head()"
      ],
      "execution_count": null,
      "outputs": [
        {
          "output_type": "execute_result",
          "data": {
            "text/plain": [
              "(0    69.2\n",
              " 1    45.1\n",
              " 2    69.3\n",
              " 3    58.5\n",
              " 4    58.4\n",
              " Name: Newspaper, dtype: float64, 0    22.1\n",
              " 1    10.4\n",
              " 2    12.0\n",
              " 3    16.5\n",
              " 4    17.9\n",
              " Name: Sales, dtype: float64)"
            ]
          },
          "metadata": {
            "tags": []
          },
          "execution_count": 70
        }
      ]
    },
    {
      "cell_type": "code",
      "metadata": {
        "id": "hcGyQu7onZfk"
      },
      "source": [
        "from sklearn.model_selection import train_test_split\n",
        "train_x, test_x, train_y, test_y = train_test_split(x, y, test_size=0.3)"
      ],
      "execution_count": null,
      "outputs": []
    },
    {
      "cell_type": "code",
      "metadata": {
        "id": "8Xc_oA7nnZYL"
      },
      "source": [
        "train_x=train_x.values.reshape(-1,1)\n",
        "test_x=test_x.values.reshape(-1,1)"
      ],
      "execution_count": null,
      "outputs": []
    },
    {
      "cell_type": "code",
      "metadata": {
        "colab": {
          "base_uri": "https://localhost:8080/"
        },
        "id": "TFYEwz8GnZPz",
        "outputId": "b6baa267-2097-4863-9379-3a0c034a38ed"
      },
      "source": [
        "train_x.shape,test_x.shape,train_y.shape,test_y.shape,"
      ],
      "execution_count": null,
      "outputs": [
        {
          "output_type": "execute_result",
          "data": {
            "text/plain": [
              "((140, 1), (60, 1), (140,), (60,))"
            ]
          },
          "metadata": {
            "tags": []
          },
          "execution_count": 73
        }
      ]
    },
    {
      "cell_type": "code",
      "metadata": {
        "colab": {
          "base_uri": "https://localhost:8080/"
        },
        "id": "yPO_mtT6nZIv",
        "outputId": "52a76342-3581-470d-da47-714f04f03dce"
      },
      "source": [
        "X2 = sm.add_constant(x)\n",
        "est = sm.OLS(y, X2)\n",
        "est2 = est.fit()\n",
        "print(est2.summary())"
      ],
      "execution_count": null,
      "outputs": [
        {
          "output_type": "stream",
          "text": [
            "                            OLS Regression Results                            \n",
            "==============================================================================\n",
            "Dep. Variable:                  Sales   R-squared:                       0.025\n",
            "Model:                            OLS   Adj. R-squared:                  0.020\n",
            "Method:                 Least Squares   F-statistic:                     5.067\n",
            "Date:                Sat, 10 Jul 2021   Prob (F-statistic):             0.0255\n",
            "Time:                        04:18:54   Log-Likelihood:                -613.69\n",
            "No. Observations:                 200   AIC:                             1231.\n",
            "Df Residuals:                     198   BIC:                             1238.\n",
            "Df Model:                           1                                         \n",
            "Covariance Type:            nonrobust                                         \n",
            "==============================================================================\n",
            "                 coef    std err          t      P>|t|      [0.025      0.975]\n",
            "------------------------------------------------------------------------------\n",
            "const         13.9595      0.638     21.870      0.000      12.701      15.218\n",
            "Newspaper      0.0383      0.017      2.251      0.025       0.005       0.072\n",
            "==============================================================================\n",
            "Omnibus:                       10.252   Durbin-Watson:                   2.017\n",
            "Prob(Omnibus):                  0.006   Jarque-Bera (JB):                4.808\n",
            "Skew:                          -0.111   Prob(JB):                       0.0903\n",
            "Kurtosis:                       2.273   Cond. No.                         64.7\n",
            "==============================================================================\n",
            "\n",
            "Warnings:\n",
            "[1] Standard Errors assume that the covariance matrix of the errors is correctly specified.\n"
          ],
          "name": "stdout"
        }
      ]
    },
    {
      "cell_type": "code",
      "metadata": {
        "colab": {
          "base_uri": "https://localhost:8080/"
        },
        "id": "a3knab7UnZAX",
        "outputId": "be2d78db-ac98-46c4-ae15-fca2120a9e88"
      },
      "source": [
        "from sklearn.linear_model import LinearRegression\n",
        "model = LinearRegression()\n",
        "model.fit(train_x,train_y)"
      ],
      "execution_count": null,
      "outputs": [
        {
          "output_type": "execute_result",
          "data": {
            "text/plain": [
              "LinearRegression(copy_X=True, fit_intercept=True, n_jobs=None, normalize=False)"
            ]
          },
          "metadata": {
            "tags": []
          },
          "execution_count": 75
        }
      ]
    },
    {
      "cell_type": "code",
      "metadata": {
        "colab": {
          "base_uri": "https://localhost:8080/"
        },
        "id": "SRq-2j6InY3j",
        "outputId": "7ac80878-ad29-405c-a1ab-1428d848128a"
      },
      "source": [
        "model.predict(test_x)"
      ],
      "execution_count": null,
      "outputs": [
        {
          "output_type": "execute_result",
          "data": {
            "text/plain": [
              "array([14.63495015, 15.63152663, 16.41298308, 16.2461553 , 17.25151218,\n",
              "       16.2549357 , 14.17397865, 14.66129138, 14.79299752, 15.54811274,\n",
              "       15.91688994, 16.46127533, 15.44713803, 14.50763421, 14.09495496,\n",
              "       16.09688833, 14.44178114, 14.83689957, 15.59640499, 14.41104971,\n",
              "       15.49982049, 14.02910189, 15.82469564, 14.34519663, 14.3144652 ,\n",
              "       14.96421551, 14.33641623, 15.33738291, 14.9598253 , 14.29690438,\n",
              "       14.21349049, 14.58226769, 14.30568479, 14.4022693 , 14.34080643,\n",
              "       16.81688191, 15.05640981, 15.62713642, 14.09056476, 14.74470527,\n",
              "       16.82566232, 16.14518059, 14.4944636 , 14.74031506, 16.81249171,\n",
              "       15.31543189, 14.91153305, 16.50078717, 15.38128496, 15.96079199,\n",
              "       15.91249973, 14.91153305, 15.82030543, 14.18275906, 15.58762458,\n",
              "       14.00715087, 15.13104329, 15.94762137, 14.61738933, 16.56664024])"
            ]
          },
          "metadata": {
            "tags": []
          },
          "execution_count": 76
        }
      ]
    },
    {
      "cell_type": "code",
      "metadata": {
        "id": "jV15N013nYwX"
      },
      "source": [
        "from sklearn.metrics import mean_squared_error"
      ],
      "execution_count": null,
      "outputs": []
    },
    {
      "cell_type": "code",
      "metadata": {
        "colab": {
          "base_uri": "https://localhost:8080/"
        },
        "id": "BPIjLGWEnYo_",
        "outputId": "d315cac4-d609-4a28-9602-81b385b6981a"
      },
      "source": [
        "mean_squared_error(test_y, model.predict(test_x))"
      ],
      "execution_count": null,
      "outputs": [
        {
          "output_type": "execute_result",
          "data": {
            "text/plain": [
              "30.390728544489193"
            ]
          },
          "metadata": {
            "tags": []
          },
          "execution_count": 78
        }
      ]
    },
    {
      "cell_type": "code",
      "metadata": {
        "colab": {
          "base_uri": "https://localhost:8080/"
        },
        "id": "BS5r4TFLnYev",
        "outputId": "c2a3fdb5-0bc7-4c95-830a-01e13d2c9ddf"
      },
      "source": [
        "print(\"Train R squared\", 1 - mean_squared_error(train_y, model.predict(train_x)) / mean_squared_error(train_y, [train_y.mean()]*train_y.shape[0]))\n",
        "print(\"Test R squared\", 1 - mean_squared_error(test_y, model.predict(test_x)) / mean_squared_error(test_y, [test_y.mean()]*test_y.shape[0]))"
      ],
      "execution_count": null,
      "outputs": [
        {
          "output_type": "stream",
          "text": [
            "Train R squared 0.036673634119203546\n",
            "Test R squared -0.010169247214272259\n"
          ],
          "name": "stdout"
        }
      ]
    },
    {
      "cell_type": "code",
      "metadata": {
        "id": "_z7HlVOinYQk"
      },
      "source": [
        ""
      ],
      "execution_count": null,
      "outputs": []
    },
    {
      "cell_type": "code",
      "metadata": {
        "id": "bPeR2MfznYBV"
      },
      "source": [
        ""
      ],
      "execution_count": null,
      "outputs": []
    },
    {
      "cell_type": "code",
      "metadata": {
        "id": "-BLcLJganXrS"
      },
      "source": [
        ""
      ],
      "execution_count": null,
      "outputs": []
    },
    {
      "cell_type": "markdown",
      "metadata": {
        "id": "BEgrCGBIpOra"
      },
      "source": [
        "####**Q.5(iii) Model 4**"
      ]
    },
    {
      "cell_type": "code",
      "metadata": {
        "id": "dtVXuM8NiRWx",
        "colab": {
          "base_uri": "https://localhost:8080/",
          "height": 204
        },
        "outputId": "7cc0b122-5948-44cf-b0e2-78107208631d"
      },
      "source": [
        "y=data.Sales\n",
        "X=data.drop('Sales',axis=1)\n",
        "\n",
        "X.head()\n",
        "\n",
        "\n"
      ],
      "execution_count": null,
      "outputs": [
        {
          "output_type": "execute_result",
          "data": {
            "text/html": [
              "<div>\n",
              "<style scoped>\n",
              "    .dataframe tbody tr th:only-of-type {\n",
              "        vertical-align: middle;\n",
              "    }\n",
              "\n",
              "    .dataframe tbody tr th {\n",
              "        vertical-align: top;\n",
              "    }\n",
              "\n",
              "    .dataframe thead th {\n",
              "        text-align: right;\n",
              "    }\n",
              "</style>\n",
              "<table border=\"1\" class=\"dataframe\">\n",
              "  <thead>\n",
              "    <tr style=\"text-align: right;\">\n",
              "      <th></th>\n",
              "      <th>TV</th>\n",
              "      <th>Radio</th>\n",
              "      <th>Newspaper</th>\n",
              "    </tr>\n",
              "  </thead>\n",
              "  <tbody>\n",
              "    <tr>\n",
              "      <th>0</th>\n",
              "      <td>230.1</td>\n",
              "      <td>37.8</td>\n",
              "      <td>69.2</td>\n",
              "    </tr>\n",
              "    <tr>\n",
              "      <th>1</th>\n",
              "      <td>44.5</td>\n",
              "      <td>39.3</td>\n",
              "      <td>45.1</td>\n",
              "    </tr>\n",
              "    <tr>\n",
              "      <th>2</th>\n",
              "      <td>17.2</td>\n",
              "      <td>45.9</td>\n",
              "      <td>69.3</td>\n",
              "    </tr>\n",
              "    <tr>\n",
              "      <th>3</th>\n",
              "      <td>151.5</td>\n",
              "      <td>41.3</td>\n",
              "      <td>58.5</td>\n",
              "    </tr>\n",
              "    <tr>\n",
              "      <th>4</th>\n",
              "      <td>180.8</td>\n",
              "      <td>10.8</td>\n",
              "      <td>58.4</td>\n",
              "    </tr>\n",
              "  </tbody>\n",
              "</table>\n",
              "</div>"
            ],
            "text/plain": [
              "      TV  Radio  Newspaper\n",
              "0  230.1   37.8       69.2\n",
              "1   44.5   39.3       45.1\n",
              "2   17.2   45.9       69.3\n",
              "3  151.5   41.3       58.5\n",
              "4  180.8   10.8       58.4"
            ]
          },
          "metadata": {
            "tags": []
          },
          "execution_count": 80
        }
      ]
    },
    {
      "cell_type": "code",
      "metadata": {
        "colab": {
          "base_uri": "https://localhost:8080/"
        },
        "id": "PgVWPtRToo3k",
        "outputId": "03945e53-caa7-4953-ce93-3a6d62814bc1"
      },
      "source": [
        "y.head()"
      ],
      "execution_count": null,
      "outputs": [
        {
          "output_type": "execute_result",
          "data": {
            "text/plain": [
              "0    22.1\n",
              "1    10.4\n",
              "2    12.0\n",
              "3    16.5\n",
              "4    17.9\n",
              "Name: Sales, dtype: float64"
            ]
          },
          "metadata": {
            "tags": []
          },
          "execution_count": 81
        }
      ]
    },
    {
      "cell_type": "code",
      "metadata": {
        "id": "Kc7rw5hXhX9Z"
      },
      "source": [
        "from sklearn.model_selection import train_test_split\n",
        "train_X, test_X, train_y, test_y = train_test_split(X, y, test_size=0.3)"
      ],
      "execution_count": null,
      "outputs": []
    },
    {
      "cell_type": "code",
      "metadata": {
        "colab": {
          "base_uri": "https://localhost:8080/"
        },
        "id": "E2_bS3uMhX1T",
        "outputId": "6f187081-62f9-448c-a373-a353b75e7530"
      },
      "source": [
        "train_X.shape,test_X.shape,train_y.shape,test_y.shape,"
      ],
      "execution_count": null,
      "outputs": [
        {
          "output_type": "execute_result",
          "data": {
            "text/plain": [
              "((140, 3), (60, 3), (140,), (60,))"
            ]
          },
          "metadata": {
            "tags": []
          },
          "execution_count": 83
        }
      ]
    },
    {
      "cell_type": "code",
      "metadata": {
        "colab": {
          "base_uri": "https://localhost:8080/",
          "height": 142
        },
        "id": "EJUeHP2ohXoh",
        "outputId": "2dd3ef94-f955-45a7-b85d-c213122eab12"
      },
      "source": [
        "pd.DataFrame(train_X).corr()"
      ],
      "execution_count": null,
      "outputs": [
        {
          "output_type": "execute_result",
          "data": {
            "text/html": [
              "<div>\n",
              "<style scoped>\n",
              "    .dataframe tbody tr th:only-of-type {\n",
              "        vertical-align: middle;\n",
              "    }\n",
              "\n",
              "    .dataframe tbody tr th {\n",
              "        vertical-align: top;\n",
              "    }\n",
              "\n",
              "    .dataframe thead th {\n",
              "        text-align: right;\n",
              "    }\n",
              "</style>\n",
              "<table border=\"1\" class=\"dataframe\">\n",
              "  <thead>\n",
              "    <tr style=\"text-align: right;\">\n",
              "      <th></th>\n",
              "      <th>TV</th>\n",
              "      <th>Radio</th>\n",
              "      <th>Newspaper</th>\n",
              "    </tr>\n",
              "  </thead>\n",
              "  <tbody>\n",
              "    <tr>\n",
              "      <th>TV</th>\n",
              "      <td>1.000000</td>\n",
              "      <td>0.051979</td>\n",
              "      <td>0.030504</td>\n",
              "    </tr>\n",
              "    <tr>\n",
              "      <th>Radio</th>\n",
              "      <td>0.051979</td>\n",
              "      <td>1.000000</td>\n",
              "      <td>0.383284</td>\n",
              "    </tr>\n",
              "    <tr>\n",
              "      <th>Newspaper</th>\n",
              "      <td>0.030504</td>\n",
              "      <td>0.383284</td>\n",
              "      <td>1.000000</td>\n",
              "    </tr>\n",
              "  </tbody>\n",
              "</table>\n",
              "</div>"
            ],
            "text/plain": [
              "                 TV     Radio  Newspaper\n",
              "TV         1.000000  0.051979   0.030504\n",
              "Radio      0.051979  1.000000   0.383284\n",
              "Newspaper  0.030504  0.383284   1.000000"
            ]
          },
          "metadata": {
            "tags": []
          },
          "execution_count": 84
        }
      ]
    },
    {
      "cell_type": "code",
      "metadata": {
        "colab": {
          "base_uri": "https://localhost:8080/"
        },
        "id": "Ucqvr0b1hXZj",
        "outputId": "0e5b7174-af8e-408e-d680-c7239b3392ac"
      },
      "source": [
        "X2 = sm.add_constant(X)\n",
        "est = sm.OLS(y, X2)\n",
        "est2 = est.fit()\n",
        "print(est2.summary())"
      ],
      "execution_count": null,
      "outputs": [
        {
          "output_type": "stream",
          "text": [
            "                            OLS Regression Results                            \n",
            "==============================================================================\n",
            "Dep. Variable:                  Sales   R-squared:                       0.903\n",
            "Model:                            OLS   Adj. R-squared:                  0.901\n",
            "Method:                 Least Squares   F-statistic:                     605.4\n",
            "Date:                Sat, 10 Jul 2021   Prob (F-statistic):           8.13e-99\n",
            "Time:                        04:21:58   Log-Likelihood:                -383.34\n",
            "No. Observations:                 200   AIC:                             774.7\n",
            "Df Residuals:                     196   BIC:                             787.9\n",
            "Df Model:                           3                                         \n",
            "Covariance Type:            nonrobust                                         \n",
            "==============================================================================\n",
            "                 coef    std err          t      P>|t|      [0.025      0.975]\n",
            "------------------------------------------------------------------------------\n",
            "const          4.6251      0.308     15.041      0.000       4.019       5.232\n",
            "TV             0.0544      0.001     39.592      0.000       0.052       0.057\n",
            "Radio          0.1070      0.008     12.604      0.000       0.090       0.124\n",
            "Newspaper      0.0003      0.006      0.058      0.954      -0.011       0.012\n",
            "==============================================================================\n",
            "Omnibus:                       16.081   Durbin-Watson:                   2.251\n",
            "Prob(Omnibus):                  0.000   Jarque-Bera (JB):               27.655\n",
            "Skew:                          -0.431   Prob(JB):                     9.88e-07\n",
            "Kurtosis:                       4.605   Cond. No.                         454.\n",
            "==============================================================================\n",
            "\n",
            "Warnings:\n",
            "[1] Standard Errors assume that the covariance matrix of the errors is correctly specified.\n"
          ],
          "name": "stdout"
        }
      ]
    },
    {
      "cell_type": "code",
      "metadata": {
        "id": "zbbk6FGu02lQ"
      },
      "source": [
        "from sklearn.linear_model import LinearRegression"
      ],
      "execution_count": null,
      "outputs": []
    },
    {
      "cell_type": "code",
      "metadata": {
        "colab": {
          "base_uri": "https://localhost:8080/"
        },
        "id": "_PDXK708081Z",
        "outputId": "1abdacc5-9769-49ae-f697-38eac86dcd3b"
      },
      "source": [
        "model = LinearRegression()\n",
        "model.fit(train_X,train_y)"
      ],
      "execution_count": null,
      "outputs": [
        {
          "output_type": "execute_result",
          "data": {
            "text/plain": [
              "LinearRegression(copy_X=True, fit_intercept=True, n_jobs=None, normalize=False)"
            ]
          },
          "metadata": {
            "tags": []
          },
          "execution_count": 95
        }
      ]
    },
    {
      "cell_type": "code",
      "metadata": {
        "colab": {
          "base_uri": "https://localhost:8080/"
        },
        "id": "4lqbFfXN08ip",
        "outputId": "63906519-62e6-4d1f-d8d0-e82e8b71a26e"
      },
      "source": [
        "model.predict(test_X)"
      ],
      "execution_count": null,
      "outputs": [
        {
          "output_type": "execute_result",
          "data": {
            "text/plain": [
              "array([ 9.23263677, 14.18066884, 12.53344462, 19.02875868, 16.45486925,\n",
              "       12.6462003 , 15.12633227, 22.03282828, 15.86587891, 22.31278034,\n",
              "       21.43976156, 21.03814497, 24.86188506, 21.57259339, 10.36580852,\n",
              "       19.63181525, 10.97592272, 20.891163  ,  9.6086213 , 11.7771405 ,\n",
              "       10.2166722 , 14.80519426, 15.28391478, 12.17201404,  7.97780803,\n",
              "       15.30154061,  7.84973954, 18.8283728 , 17.31834258,  6.33110078,\n",
              "       11.22144256,  5.29449271, 24.77462362,  9.85071771, 17.2314715 ,\n",
              "       21.37012517, 15.88919957, 21.58663605, 21.06355281, 10.79114289,\n",
              "        8.89119863, 15.82129729,  8.12841394, 16.90858004, 24.05086655,\n",
              "        9.64362793, 17.23493626, 19.52659871,  8.0371794 , 17.59207698,\n",
              "        9.40419303, 20.65905786, 13.34204087, 21.40191261,  7.09924952,\n",
              "       20.34372855, 11.31438063, 16.06236844, 14.05962743,  7.16154337])"
            ]
          },
          "metadata": {
            "tags": []
          },
          "execution_count": 96
        }
      ]
    },
    {
      "cell_type": "code",
      "metadata": {
        "id": "wIP8Dcku1JgQ"
      },
      "source": [
        "from sklearn.metrics import mean_squared_error"
      ],
      "execution_count": null,
      "outputs": []
    },
    {
      "cell_type": "code",
      "metadata": {
        "colab": {
          "base_uri": "https://localhost:8080/"
        },
        "id": "L8LsMFFv1JPv",
        "outputId": "451982c2-0162-4b00-d8fc-9c68c958fbf0"
      },
      "source": [
        "mean_squared_error(test_y, model.predict(test_X))"
      ],
      "execution_count": null,
      "outputs": [
        {
          "output_type": "execute_result",
          "data": {
            "text/plain": [
              "3.01194186144176"
            ]
          },
          "metadata": {
            "tags": []
          },
          "execution_count": 99
        }
      ]
    },
    {
      "cell_type": "code",
      "metadata": {
        "colab": {
          "base_uri": "https://localhost:8080/"
        },
        "id": "bxvOjw9I1I_Q",
        "outputId": "c515e709-a4b5-42ad-85f0-3de110c6325f"
      },
      "source": [
        "print(\"Train R squared\", 1 - mean_squared_error(train_y, model.predict(train_X)) / mean_squared_error(train_y, [train_y.mean()]*train_y.shape[0]))\n",
        "print(\"Test R squared\", 1 - mean_squared_error(test_y, model.predict(test_X)) / mean_squared_error(test_y, [test_y.mean()]*test_y.shape[0]))"
      ],
      "execution_count": null,
      "outputs": [
        {
          "output_type": "stream",
          "text": [
            "Train R squared 0.9051150941406266\n",
            "Test R squared 0.8949979784823594\n"
          ],
          "name": "stdout"
        }
      ]
    },
    {
      "cell_type": "code",
      "metadata": {
        "id": "ZDuAXIXtrUly"
      },
      "source": [
        ""
      ],
      "execution_count": null,
      "outputs": []
    }
  ]
}